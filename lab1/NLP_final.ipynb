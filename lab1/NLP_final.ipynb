{
 "cells": [
  {
   "cell_type": "code",
   "execution_count": 19,
   "metadata": {},
   "outputs": [],
   "source": [
    "%matplotlib inline\n",
    "import matplotlib\n",
    "import numpy as np\n",
    "import matplotlib.pyplot as plt"
   ]
  },
  {
   "cell_type": "markdown",
   "metadata": {},
   "source": [
    "# Lab 1: Text Corpora and Language Modelling\n",
    "\n",
    "Welcome to the first lab assignment of INFOMNLP 2021. \n",
    "\n",
    "This lab is meant to help you get familiar with some language data, and use this data to estimate simple models called N-gram language models.\n",
    "\n",
    "First you will use the **Penn Treebank**, which is a collection of newspaper articles from the newspaper \n",
    "The Wall Street Journal. The idea is to examine the data and notice interesting properties. This will not take more than a few lines of code. The Penn Treebank may be the most widely used corpus in NLP.\n",
    "\n",
    "Then you will use a corpus consisting of **TedX** talks. This you will use to estimate an **N-gram language model** for different orders of N, and use this for some tasks.\n",
    "\n",
    "The datasets are on Blackboard. Download them and make sure to put the files in the same directory as the notebook.\n",
    "\n",
    "### Rules\n",
    "* The lab exercises should be made in **groups of two people**.\n",
    "\n",
    "* The assignment should submitted to **Blackboard** as `.ipynb`. Only **one submission per group**.\n",
    "\n",
    "* The **filename** should be `lab1_id1_id2.ipynb`.\n",
    " \n",
    "* The questions marked **Extra** or **Optional** are an additional challenge for those interested in going the extra mile. \n",
    "\n",
    "* We may not grade all sub-questions (instead, we may choose a sub-set and scale the points). However, solve them as if they were.\n",
    "\n",
    "Notes on implementation:\n",
    "\n",
    "* You should **write your code and answers in this iPython Notebook**. (See http://ipython.org/notebook.html for reference material.) If you have problems, please contact your teaching assistant.\n",
    "\n",
    "* Use only **one cell for code** and **one cell for markdown** answers!    \n",
    "\n",
    "    * Put all code in the cell with the `# YOUR CODE HERE` comment.\n",
    "    \n",
    "    * For theoretical questions, put your solution in the YOUR ANSWER HERE cell.\n",
    "    \n",
    "* Test your code and **make sure we can run your notebook**"
   ]
  },
  {
   "cell_type": "markdown",
   "metadata": {},
   "source": [
    "# 1. Penn treebank\n",
    "\n",
    "## Exercise 1.1 \n",
    "(40 points, 5 points per subquestion )\n",
    "\n",
    "You are provided with a corpus containing words with their Part-of-Speech tags (POS-tags for short). The format is\n",
    "**word|POS** (one sentence per line) and the file name is **sec02-22.gold.tagged**. This data is extracted from Sections 02-22 from the Penn Treebank: these sections are most commonly used for training statistical models like POS-taggers and parsers.\n",
    "\n",
    "The questions below are about both the words in the corpus and POS tags. POS-tagging will be covered in week2 in the course, but you can already start to get familiar with the tags in English.\n",
    "\n",
    "**[Hint]** **Figure 8.2** in chapter 8 of Jurafsky and Martin (see (https://web.stanford.edu/~jurafsky/slp3/8.pdf)) holds a summary of the 45 POS-tags used in the Penn Treebank tagset together with their meaning and some examples. (If you are keen on learning more about the word-classes represented POS-tags and their definitions you can do a litle reading ahead for next week and already have a look at section 8.1 of the same chapter).\n",
    "\n",
    "**[Hint]** the Python library [collections](https://docs.python.org/2/library/collections.html) has an object called `Counter` which will come in handy for this exercise."
   ]
  },
  {
   "cell_type": "markdown",
   "metadata": {},
   "source": [
    " "
   ]
  },
  {
   "cell_type": "markdown",
   "metadata": {},
   "source": [
    "**(a)** How large is the corpus? (i.e. how **many tokens**). And what is the size of the **vocabulary** used in this corpus? \n",
    "\n",
    "Estimate the vocabulary size both by **lowercasing** all the words as well as by leaving the words in their **original orthography**. What is an advantage of lowercasing all the words in your corpus? What is a notable downside? **Give examples.**"
   ]
  },
  {
   "cell_type": "code",
   "execution_count": 37,
   "metadata": {},
   "outputs": [
    {
     "name": "stdout",
     "output_type": "stream",
     "text": [
      "Vocabulary size is 44073\n",
      "Lower case vocabulary size is 39240\n",
      "An advantage of lowercasing the vocabulary is that it is recognized that words at the start of a sentence\n",
      "         are the same word as the word occuring somewhere else in the sentence without capital letters\n",
      "A disadvantage of lowercasing the vocabulary is that you lose some information by discarding the capital letters, e.g\n",
      "      names, countries, titles and the first letter of a sentence often include capital letters\n"
     ]
    }
   ],
   "source": [
    "import re, sys, os, string\n",
    "import collections as c\n",
    "import matplotlib.pyplot as plt\n",
    "import numpy as np\n",
    "\n",
    "string.punctuation = '!\"#$%&\\'()*+,-./:;<=>?@[\\\\]^_`{|}~'\n",
    "pos_path = \"sec02-21.gold.tagged\"\n",
    "with open(pos_path, \"r\") as file:\n",
    "    read = file.read()\n",
    "    # word_pos = re.sub(r\"[^a-zA-Z0-9\\|+\\s]\",\"\", read)\n",
    "    word_pos = re.sub(r\"[\\n]\", \"\", read)\n",
    "    token_pos = re.sub(r\"[\\n]+|[\\s]+|[\\|]\", \"\", read)\n",
    "# with open('test_file.txt','w') as file_write:\n",
    "# file_write.write(read)\n",
    "word_pos_dic = {}\n",
    "pos_word_dic = defaultdict(Counter)\n",
    "word_pos_list = word_pos.split(' ')\n",
    "while (word_pos_list.count(\"\")):\n",
    "    word_pos_list.remove(\"\")\n",
    "word_list = []\n",
    "word_lower_list = []\n",
    "pos_list = []\n",
    "\n",
    "    \n",
    "for i, word_pos in enumerate(word_pos_list):\n",
    "    wordpos = word_pos.split(\"|\")\n",
    "    word = wordpos[0].strip(string.punctuation)\n",
    "    word_punct = wordpos[0]\n",
    "    if word_punct != \"\":\n",
    "        pos = wordpos[1]\n",
    "        pos_list.append(pos)\n",
    "        pos_word_dic[pos][word_punct] += 1\n",
    "    if word != \"\":\n",
    "        word_lower = word.lower()\n",
    "        word_list.append(word)\n",
    "        word_lower_list.append(word_lower)\n",
    "        if word not in word_pos_dic.keys():\n",
    "            word_pos_dic[word] = [pos]\n",
    "        elif pos not in word_pos_dic[word]:\n",
    "            word_pos_dic[word].append(pos)\n",
    "        \n",
    "\n",
    "for p in set(pos_list):\n",
    "    token_pos = re.sub(p, '', token_pos)\n",
    "word_counter = c.Counter(word_list)\n",
    "word_lower_counter = c.Counter(word_lower_list)\n",
    "pos_counter = c.Counter(pos_list)\n",
    "token_counter = c.Counter(token_pos)\n",
    "sorted_word_counter = sorted(word_counter.items(), key=lambda item: item[1], reverse=True)\n",
    "sorted_word_lower_counter = sorted(word_lower_counter.items(), key=lambda item: item[1], reverse=True)\n",
    "sorted_pos_counter = sorted(pos_counter.items(), key=lambda item: item[1], reverse=True)\n",
    "\n",
    "\n",
    "print(\"Vocabulary size is \" + str(len(word_counter.keys())))\n",
    "print(\"Lower case vocabulary size is \" + str(len(word_lower_counter.keys())))\n",
    "print(\"\"\"An advantage of lowercasing the vocabulary is that it is recognized that words at the start of a sentence\n",
    "         are the same word as the word occuring somewhere else in the sentence without capital letters\"\"\")\n",
    "print(\"\"\"A disadvantage of lowercasing the vocabulary is that you lose some information by discarding the capital letters, e.g\n",
    "      names, countries, titles and the first letter of a sentence often include capital letters\"\"\")"
   ]
  },
  {
   "cell_type": "markdown",
   "metadata": {},
   "source": [
    "YOUR ANSWER HERE"
   ]
  },
  {
   "cell_type": "markdown",
   "metadata": {},
   "source": [
    "------\n",
    "For the rest of this exercise you should use the **original orthography** of the data when answering the questions.\n",
    "\n",
    "------\n"
   ]
  },
  {
   "cell_type": "markdown",
   "metadata": {},
   "source": [
    "**(b)** Plot a graph of word frequency versus rank of a word, in this corpus. Does this corpus obey **Zipf’s law**?"
   ]
  },
  {
   "cell_type": "code",
   "execution_count": 21,
   "metadata": {
    "scrolled": true
   },
   "outputs": [
    {
     "data": {
      "image/png": "[encoded data removed]",
      "text/plain": [
       "<Figure size 432x288 with 1 Axes>"
      ]
     },
     "metadata": {
      "needs_background": "light"
     },
     "output_type": "display_data"
    },
    {
     "data": {
      "text/plain": [
       "\"Zipf's law predicts that the most frequently occuring word in a corpus on average occurs twice as much as the \\nsecond most frequent word which occurs three times as much as the third most frequent word etc. This creates a curve\\nwhere the decrease of steepness in the curve is proportional to the word rank. The curve below approximately resembles such \\na shape.\""
      ]
     },
     "execution_count": 21,
     "metadata": {},
     "output_type": "execute_result"
    }
   ],
   "source": [
    "import matplotlib.pyplot as plt\n",
    "import numpy as np\n",
    "\n",
    "x = []\n",
    "y = []\n",
    "\n",
    "for i,w in enumerate(sorted_word_counter):\n",
    "    #print(str(i) + \" \" + str(sorted_word_counter[i]))\n",
    "    x.append(i)\n",
    "    y.append(sorted_word_counter[i][1])\n",
    "plt.xticks(np.arange(0,210,15))\n",
    "plt.xlabel(\"Rank\")\n",
    "plt.ylabel(\"Frequency\")\n",
    "plt.scatter(x[:210],y[:210])\n",
    "plt.show()\n",
    "\n",
    "#for i in range(0):\n",
    "    #print(str(x[i]))\n",
    "    #print(str(y[i]))\n",
    "\"\"\"Zipf's law predicts that the most frequently occuring word in a corpus on average occurs twice as much as the \n",
    "second most frequent word which occurs three times as much as the third most frequent word etc. This creates a curve\n",
    "where the decrease of steepness in the curve is proportional to the word rank. The curve below approximately resembles such \n",
    "a shape.\"\"\""
   ]
  },
  {
   "cell_type": "markdown",
   "metadata": {},
   "source": [
    "**(c)** What are the **20 most common words** in the corpus and how often do they occur? What is the 50th most common word, the 100th and the 1000th and how often do they occur?"
   ]
  },
  {
   "cell_type": "code",
   "execution_count": 22,
   "metadata": {},
   "outputs": [
    {
     "name": "stdout",
     "output_type": "stream",
     "text": [
      "0 ('the', 40839)\n",
      "1 ('of', 22782)\n",
      "2 ('to', 22056)\n",
      "3 ('a', 19171)\n",
      "4 ('and', 15906)\n",
      "5 ('in', 15085)\n",
      "6 ('s', 9255)\n",
      "7 ('that', 7951)\n",
      "8 ('for', 7912)\n",
      "9 ('is', 6893)\n",
      "10 ('The', 6791)\n",
      "11 ('said', 5597)\n",
      "12 ('on', 5112)\n",
      "13 ('it', 4639)\n",
      "14 ('by', 4450)\n",
      "15 ('from', 4437)\n",
      "16 ('million', 4355)\n",
      "17 ('at', 4313)\n",
      "18 ('as', 4237)\n",
      "19 ('with', 4214)\n",
      "20 ('Mr', 4151)\n",
      "------------------\n",
      "50 ('but', 1641)\n",
      "------------------\n",
      "100 ('cents', 778)\n",
      "------------------\n",
      "1000 ('All', 108)\n"
     ]
    }
   ],
   "source": [
    "for i in range(0,21):\n",
    "    print(str(i) + \" \" + str(sorted_word_counter[i]))\n",
    "print(\"------------------\")\n",
    "print(str(50) + \" \" + str(sorted_word_counter[50]))\n",
    "print(\"------------------\")\n",
    "print(str(100) + \" \" + str(sorted_word_counter[100]))\n",
    "print(\"------------------\")\n",
    "print(str(1000) + \" \" + str(sorted_word_counter[1000]))"
   ]
  },
  {
   "cell_type": "markdown",
   "metadata": {},
   "source": [
    "**(d)** How many different Part-of-speech tags are present in the corpus?"
   ]
  },
  {
   "cell_type": "code",
   "execution_count": 23,
   "metadata": {
    "scrolled": true
   },
   "outputs": [
    {
     "name": "stdout",
     "output_type": "stream",
     "text": [
      "48\n"
     ]
    }
   ],
   "source": [
    "print(str(len(pos_counter)))"
   ]
  },
  {
   "cell_type": "markdown",
   "metadata": {},
   "source": [
    "**(e)** Print a list of the **10 most commonly occurring POS tags** in the data. For each of these POS tags, what are the **3 most common words** that belong to that class?"
   ]
  },
  {
   "cell_type": "code",
   "execution_count": 50,
   "metadata": {},
   "outputs": [
    {
     "name": "stdout",
     "output_type": "stream",
     "text": [
      "1 ('NN', 132134) [('%', 4866), ('company', 2457), ('year', 2220)]\n",
      "2 ('IN', 99413) [('of', 22778), ('in', 14852), ('for', 7907)]\n",
      "3 ('NNP', 90711) [('Mr.', 4147), ('U.S.', 1577), ('Corp.', 1186)]\n",
      "4 ('DT', 82147) [('the', 40831), ('a', 19151), ('The', 6753)]\n",
      "5 ('JJ', 59643) [('new', 1396), ('other', 1298), ('last', 990)]\n",
      "6 ('NNS', 59332) [('years', 1164), ('shares', 1128), ('sales', 939)]\n",
      "7 (',', 48314) [(',', 48310), ('an', 1), ('2', 1)]\n",
      "8 ('.', 39252) [('.', 38798), ('?', 392), ('!', 62)]\n",
      "9 ('CD', 36148) [('million', 4355), ('billion', 1780), ('one', 1203)]\n",
      "10 ('RB', 30232) [(\"n't\", 3211), ('also', 1420), ('not', 1287)]\n"
     ]
    }
   ],
   "source": [
    "\n",
    "for i in range(0,10):\n",
    "    p = str(sorted_pos_counter[i][0])\n",
    "    print(str(i+1) + \" \" + str(sorted_pos_counter[i]) + \" \"+ str(sorted(pos_word_dic[p].items(),key=lambda item: item[1],reverse=True)[0:3]))"
   ]
  },
  {
   "cell_type": "markdown",
   "metadata": {},
   "source": [
    "**(f)** A single word may have several POS-tags. For example, *record* can be a both a **noun** *(buy a record)* or a **verb** *(record a lecture)*. This make POS-tags extremely useful for **disambiguation**.\n",
    "\n",
    "What percentage of the words in the vocabulary is **ambiguous**? (i.e. have more than one POS tag?) What are the 10 most frequent combinations of POS tags in the case of ambitguity? Which words are **most ambiguous**? Give some of them."
   ]
  },
  {
   "cell_type": "code",
   "execution_count": 9,
   "metadata": {
    "scrolled": true
   },
   "outputs": [
    {
     "name": "stdout",
     "output_type": "stream",
     "text": [
      "Frequency ambiguous words: 5943\n",
      "Frequency non-ambiguous words: 38130\n",
      "Vocabulary size is 44073\n",
      "Percentage of vocabulary that is ambiguous: 0.1348444625961473\n",
      "The 10 most ambiguous words are:\n",
      " ('set', 7) ('many', 7) ('No', 7) ('open', 7) ('down', 7) ('in', 6) ('that', 6) ('own', 6) ('cut', 6) ('point', 6)\" where the \n",
      "     first element of the tuple is the word and the second element the amount of different POS tags it has.\n"
     ]
    }
   ],
   "source": [
    "ambiguity_dic = {}\n",
    "for k in word_pos_dic.keys():\n",
    "    ambiguity_dic[k] = len(set(word_pos_dic[k]))\n",
    "sorted_ambiguity_dic = sorted(ambiguity_dic.items(), key=lambda item: item[1], reverse=True)\n",
    "ambiguity_count = 0\n",
    "non_ambiguity_count = 0\n",
    "ambiguous_words = []\n",
    "for k in ambiguity_dic.keys():\n",
    "    if ambiguity_dic[k] > 1:\n",
    "        ambiguity_count +=1\n",
    "        ambiguous_words.append(k)\n",
    "    else:\n",
    "        non_ambiguity_count +=1\n",
    "        \n",
    "m = list(sorted_ambiguity_dic)[:10]\n",
    "percentage_ambiguous = ambiguity_count/len(word_counter.keys())\n",
    "print(\"Frequency ambiguous words: \" +str(ambiguity_count))\n",
    "print(\"Frequency non-ambiguous words: \" +str(non_ambiguity_count))\n",
    "print(\"Vocabulary size is \" + str(len(word_counter.keys())))\n",
    "print(\"Percentage of vocabulary that is ambiguous: \" + str(percentage_ambiguous))\n",
    "print(\"The 10 most ambiguous words are:\\n \" + str(m[0])+ \" \" + str(m[1]) + \" \" + str(m[2])+ \" \" + str(m[3]) + \" \" \n",
    "    + str(m[4]) + \" \"+ str(m[5])+ \" \" + str(m[6]) + \" \"\n",
    "     + str(m[7])+ \" \" + str(m[8])+ \" \" + str(m[9]) + \"\"\"\" where the \n",
    "     first element of the tuple is the word and the second element the amount of different POS tags it has.\"\"\")"
   ]
  },
  {
   "cell_type": "markdown",
   "metadata": {},
   "source": [
    "**(g)**  Print some of these words with their multiple POS-tags. Do you **understand the ambiguity**? Use figure 10.2 mentioned above to interpret the POS-tags."
   ]
  },
  {
   "cell_type": "code",
   "execution_count": 40,
   "metadata": {},
   "outputs": [
    {
     "name": "stdout",
     "output_type": "stream",
     "text": [
      "Word:  set \tPOS labels:  ['VBN', 'NN', 'VBD', 'VB', 'VBP', 'JJ', 'VBZ']\n",
      "Word:  many \tPOS labels:  ['JJ', 'NN', 'RB', 'DT', 'PDT', 'VB', 'NP']\n",
      "Word:  No \tPOS labels:  ['DT', 'NNP', 'NN', 'UH', 'JJ', 'VB', 'RB']\n",
      "Word:  open \tPOS labels:  ['VB', 'JJ', 'RP', 'RB', 'VBP', 'NN', 'VBZ']\n",
      "Word:  down \tPOS labels:  ['RB', 'RP', 'IN', 'JJ', 'RBR', 'VBP', 'NN']\n",
      "Word:  in \tPOS labels:  ['IN', 'RP', 'RB', 'CC', 'FW', 'RBR']\n",
      "Word:  that \tPOS labels:  ['IN', 'WDT', 'DT', 'RB', 'VBP', 'NN']\n",
      "Word:  own \tPOS labels:  ['JJ', 'VB', 'VBP', 'NN', 'VBZ', 'VBN']\n",
      "Word:  cut \tPOS labels:  ['VB', 'VBD', 'NN', 'VBN', 'VBP', 'JJ']\n",
      "Word:  point \tPOS labels:  ['NN', 'VB', 'VBP', 'VBZ', 'JJ', 'VBN']\n"
     ]
    }
   ],
   "source": [
    "## YOUR CODE HERE ##\n",
    "for w,c in m:\n",
    "    print('Word: ',w, \"\\tPOS labels: \",word_pos_dic[w])"
   ]
  },
  {
   "cell_type": "markdown",
   "metadata": {},
   "source": [
    "**(h)** Ambiguous words do not account for a great percentage of the vocabulary. Yet they are among the most commonly occuring words of the English language. What **percentage of the dataset is ambiguous**?"
   ]
  },
  {
   "cell_type": "code",
   "execution_count": 11,
   "metadata": {},
   "outputs": [
    {
     "name": "stdout",
     "output_type": "stream",
     "text": [
      "Ambiguous: 502398\n",
      "Non-ambiguous: 321114\n",
      "Percentage of data set that is ambiguous is: 61.01 %\n"
     ]
    }
   ],
   "source": [
    "ambiguous_data_count = 0\n",
    "non_ambiguous_data_count = 0\n",
    "for e in word_counter.elements():\n",
    "    if e in ambiguous_words:\n",
    "        ambiguous_data_count +=1\n",
    "    else:\n",
    "        non_ambiguous_data_count +=1\n",
    "all_data = ambiguous_data_count + non_ambiguous_data_count\n",
    "print(\"Ambiguous: \" + str(ambiguous_data_count))\n",
    "print(\"Non-ambiguous: \"+ str(non_ambiguous_data_count))\n",
    "print(\"Percentage of data set that is ambiguous is: \" + str(round(ambiguous_data_count/all_data * 100,2)),'%')\n",
    "        \n",
    "    "
   ]
  },
  {
   "cell_type": "markdown",
   "metadata": {},
   "source": [
    "## Exercise 1.2 \n",
    "(10 points, 5 per subquestion)"
   ]
  },
  {
   "cell_type": "markdown",
   "metadata": {},
   "source": [
    "You are also provided with another file called **sec00.gold.tagged**. \n",
    "Section 00 of the Penn Treebank is typically used as development data."
   ]
  },
  {
   "cell_type": "markdown",
   "metadata": {},
   "source": [
    "**(a)** How many **unseen words** are present in the development data (i.e., words that have not occurred in the training data)?"
   ]
  },
  {
   "cell_type": "code",
   "execution_count": 51,
   "metadata": {
    "scrolled": true
   },
   "outputs": [
    {
     "name": "stdout",
     "output_type": "stream",
     "text": [
      "Non occuring words:  813\n"
     ]
    }
   ],
   "source": [
    "## YOUR CODE HERE ##\n",
    "\n",
    "\n",
    "sec00_path = 'sec00.gold.tagged'\n",
    "new_words_pos = dict()\n",
    "with open(sec00_path, \"r\") as file:\n",
    "    read = file.read()\n",
    "    sentences = read.split('\\n')\n",
    "    for sentence in sentences:\n",
    "        sec_words = sentence.split(' ')      \n",
    "        for sec_word in sec_words:\n",
    "            word_tag = sec_word.split('|')\n",
    "            #TODO are words that contain . like Nov. words?\n",
    "            \n",
    "            if word_tag[0].isalpha():\n",
    "                word,pos = word_tag\n",
    "                if word not in new_words_pos.keys():\n",
    "                    new_words_pos[word.lower()] = [pos]\n",
    "                else:\n",
    "                    if pos not in new_words_pos[word.lower()]:\n",
    "                        new_words_pos[word.lower()].append(pos)\n",
    "# print(new_words_pos)\n",
    "non_occuring_words = set(list(new_words_pos.keys())).difference(set(word_lower_list))\n",
    "print('Non occuring words: ',len(non_occuring_words))"
   ]
  },
  {
   "cell_type": "markdown",
   "metadata": {},
   "source": [
    "**(b)** What are the three **POS tag categories** that the most **unseen words** belong to?"
   ]
  },
  {
   "cell_type": "code",
   "execution_count": 52,
   "metadata": {
    "scrolled": true
   },
   "outputs": [
    {
     "name": "stdout",
     "output_type": "stream",
     "text": [
      "[('NNP', 404), ('NN', 112), ('NNS', 83)]\n"
     ]
    }
   ],
   "source": [
    "## YOUR CODE HERE ##\n",
    "import collections as c\n",
    "pos_list=list()\n",
    "for non_occ_word in non_occuring_words:\n",
    "    pos_list.extend(new_words_pos[non_occ_word])\n",
    "print(c.Counter(pos_list).most_common(3))\n"
   ]
  },
  {
   "cell_type": "markdown",
   "metadata": {},
   "source": [
    "# 2. Language Models\n",
    "\n",
    "\n",
    "\n",
    "Reference **chapter 3** of JM3 *Language Modeling with N-Grams*. \n",
    "\n",
    "----------\n",
    "\n",
    "Models that assign **probabilities** to **sequences of words** are called language **language\n",
    "modelels** or **LMs**. The simplest model that assigns probabilities to sentences and sequences of words is the **N-gram** model.\n",
    "\n",
    "Recall that an *N*-gram language model uses **conditional probabilities** of the form\n",
    "    \n",
    "$$P(w_k \\mid w_{k-N+1} \\dots w_{k-1})$$\n",
    "\n",
    "to **approximate** the full **joint probability**\n",
    "\n",
    "$$P(w_1 \\dots w_n)$$\n",
    "\n",
    "of a sequence of words $w_1 \\dots w_n$.\n",
    "\n",
    "The easiest way of obtaining estimates for the probabilities $P(w_k \\mid w_{k-N+1} \\dots w_{k-1})$ is to use the **maximum likelihood estimate** or **MLE**, a widely used statistical estimation method (https://en.wikipedia.org/wiki/Maximum_likelihood_estimation). You count and normalize:\n",
    "\n",
    "$$P_{MLE}(w_k \\mid w_{k-N+1} \\dots w_{k-1}) = \\frac{C(w_{k-N+1} \\dots w_{k-1} w_k)}{C(w_{k-N+1} \\dots w_{k-1})}.$$\n",
    "\n",
    "\n",
    "## Exercise 2.1 \n",
    "(25 points, 15 and 10 for a and b)\n",
    "\n",
    "**(a) ** Complete the function `train_ngram` so that you can train a count-based $N$-gram language model on the data found in `data/ted-train.txt` and train this for $N=2,3,4$. \n",
    "\n",
    "**(b) ** Extend the function above so that it accepts a parameter `k` for optional add-$k$ smoothing. \n",
    "\n",
    "**[Datastructure hint]** If you store the smoothed language in a naive manner (that is, to store *all* the numbers separately) your datastructure will get huge! If $V$ is the vocabulary then the smoothed bigram model assigns probabilities to $|V|^2$ entries. If $|V|$ is around 80k, the naive way requires you to store more than 64 billion floats. Yet almost all of these are actually just $P(w_n|w_{n-1}) = \\frac{k}{N + k|V|}$, with $k$ the value with which you smooth and $N=C(w_{n-1})$. Think about how you use this fact to make your model work in practice."
   ]
  },
  {
   "cell_type": "markdown",
   "metadata": {},
   "source": [
    "**[Python hint]** The `collections` library has another useful datastructure: the `defaultdict`. Some example uses:"
   ]
  },
  {
   "cell_type": "code",
   "execution_count": 53,
   "metadata": {
    "scrolled": true
   },
   "outputs": [
    {
     "data": {
      "text/plain": [
       "0.0"
      ]
     },
     "execution_count": 53,
     "metadata": {},
     "output_type": "execute_result"
    }
   ],
   "source": [
    "from collections import defaultdict,Counter\n",
    "\n",
    "d = defaultdict(float)\n",
    "d[\"new key\"]"
   ]
  },
  {
   "cell_type": "markdown",
   "metadata": {},
   "source": [
    "Compare that to an ordinary dictionary:"
   ]
  },
  {
   "cell_type": "code",
   "execution_count": 54,
   "metadata": {},
   "outputs": [
    {
     "ename": "KeyError",
     "evalue": "'new key'",
     "output_type": "error",
     "traceback": [
      "\u001b[1;31m---------------------------------------------------------------------------\u001b[0m",
      "\u001b[1;31mKeyError\u001b[0m                                  Traceback (most recent call last)",
      "\u001b[1;32m<ipython-input-54-b8ace26bc60b>\u001b[0m in \u001b[0;36m<module>\u001b[1;34m\u001b[0m\n\u001b[0;32m      1\u001b[0m \u001b[0md\u001b[0m \u001b[1;33m=\u001b[0m \u001b[0mdict\u001b[0m\u001b[1;33m(\u001b[0m\u001b[1;33m)\u001b[0m\u001b[1;33m\u001b[0m\u001b[1;33m\u001b[0m\u001b[0m\n\u001b[1;32m----> 2\u001b[1;33m \u001b[0md\u001b[0m\u001b[1;33m[\u001b[0m\u001b[1;34m\"new key\"\u001b[0m\u001b[1;33m]\u001b[0m\u001b[1;33m\u001b[0m\u001b[1;33m\u001b[0m\u001b[0m\n\u001b[0m",
      "\u001b[1;31mKeyError\u001b[0m: 'new key'"
     ]
    }
   ],
   "source": [
    "d = dict()\n",
    "d[\"new key\"]"
   ]
  },
  {
   "cell_type": "markdown",
   "metadata": {},
   "source": [
    "Other datatypes as `default_factory`:"
   ]
  },
  {
   "cell_type": "code",
   "execution_count": 55,
   "metadata": {},
   "outputs": [
    {
     "data": {
      "text/plain": [
       "0"
      ]
     },
     "execution_count": 55,
     "metadata": {},
     "output_type": "execute_result"
    }
   ],
   "source": [
    "d = defaultdict(int)\n",
    "d[\"new key\"]"
   ]
  },
  {
   "cell_type": "code",
   "execution_count": 56,
   "metadata": {},
   "outputs": [
    {
     "data": {
      "text/plain": [
       "[]"
      ]
     },
     "execution_count": 56,
     "metadata": {},
     "output_type": "execute_result"
    }
   ],
   "source": [
    "d = defaultdict(list)\n",
    "d[\"new key\"]"
   ]
  },
  {
   "cell_type": "markdown",
   "metadata": {},
   "source": [
    "Converting an already existing `dict`:"
   ]
  },
  {
   "cell_type": "code",
   "execution_count": 57,
   "metadata": {},
   "outputs": [
    {
     "name": "stdout",
     "output_type": "stream",
     "text": [
      "value\n",
      "0.0\n"
     ]
    }
   ],
   "source": [
    "d1 = {k: \"value\" for k in range(1, 11)}\n",
    "d = defaultdict(float, d1) # convert it to a defaultdict\n",
    "print(d[5])\n",
    "print(d[100])"
   ]
  },
  {
   "cell_type": "markdown",
   "metadata": {},
   "source": [
    "This doesn't work:"
   ]
  },
  {
   "cell_type": "code",
   "execution_count": 58,
   "metadata": {},
   "outputs": [
    {
     "ename": "TypeError",
     "evalue": "first argument must be callable or None",
     "output_type": "error",
     "traceback": [
      "\u001b[1;31m---------------------------------------------------------------------------\u001b[0m",
      "\u001b[1;31mTypeError\u001b[0m                                 Traceback (most recent call last)",
      "\u001b[1;32m<ipython-input-58-3d3819b3d911>\u001b[0m in \u001b[0;36m<module>\u001b[1;34m\u001b[0m\n\u001b[1;32m----> 1\u001b[1;33m \u001b[0md\u001b[0m \u001b[1;33m=\u001b[0m \u001b[0mdefaultdict\u001b[0m\u001b[1;33m(\u001b[0m\u001b[1;36m10\u001b[0m\u001b[1;33m)\u001b[0m\u001b[1;33m\u001b[0m\u001b[1;33m\u001b[0m\u001b[0m\n\u001b[0m",
      "\u001b[1;31mTypeError\u001b[0m: first argument must be callable or None"
     ]
    }
   ],
   "source": [
    "d = defaultdict(10)"
   ]
  },
  {
   "cell_type": "markdown",
   "metadata": {},
   "source": [
    "Use a `lambda` to make the number `10` `callable`\":"
   ]
  },
  {
   "cell_type": "code",
   "execution_count": 59,
   "metadata": {},
   "outputs": [
    {
     "data": {
      "text/plain": [
       "10"
      ]
     },
     "execution_count": 59,
     "metadata": {},
     "output_type": "execute_result"
    }
   ],
   "source": [
    "d = defaultdict(lambda: 10)\n",
    "d[\"new key\"]"
   ]
  },
  {
   "cell_type": "code",
   "execution_count": 60,
   "metadata": {},
   "outputs": [
    {
     "data": {
      "text/plain": [
       "defaultdict(float, {})"
      ]
     },
     "execution_count": 60,
     "metadata": {},
     "output_type": "execute_result"
    }
   ],
   "source": [
    "d = defaultdict(lambda: defaultdict(float))\n",
    "d[\"new key\"]"
   ]
  },
  {
   "cell_type": "markdown",
   "metadata": {},
   "source": [
    "Clever use of a `defaultdict` can be the solution to the problem of data-storing in a smoothing $N$-gram pointed out above:\n",
    "    \n",
    "    ngram = defaultdict(lambda: k/(N+kV), ngram)"
   ]
  },
  {
   "cell_type": "markdown",
   "metadata": {},
   "source": [
    "The following function is given:"
   ]
  },
  {
   "cell_type": "code",
   "execution_count": 61,
   "metadata": {},
   "outputs": [],
   "source": [
    "train_file = \"ted-train2.txt\"\n",
    "\n",
    "def read(fname, max_lines=np.inf):\n",
    "    \"\"\"\n",
    "    Reads in the data in fname and returns it as\n",
    "    one long list of words. Also returns a vocabulary in\n",
    "    the form of a word2index and index2word dictionary.\n",
    "    \"\"\"\n",
    "    data = []\n",
    "    # w2i will automatically keep a counter to asign to new words\n",
    "    w2i = defaultdict(lambda: len(w2i))\n",
    "    i2w = dict()\n",
    "    start = \"<s>\"\n",
    "    end = \"</s>\"\n",
    "    \n",
    "    with open(fname, \"r\", encoding='utf-8') as fh:\n",
    "        for k, line in enumerate(fh):\n",
    "            if k > max_lines:\n",
    "                break\n",
    "            words = line.strip().split()\n",
    "            # assign an index to each word\n",
    "            for w in words:\n",
    "                i2w[w2i[w]] = w # trick\n",
    "            \n",
    "            sent = [start] + words + [end]\n",
    "            data.append(sent)\n",
    "\n",
    "    return data, w2i, i2w"
   ]
  },
  {
   "cell_type": "code",
   "execution_count": 62,
   "metadata": {},
   "outputs": [],
   "source": [
    "def train_ngram(data, N, k=0):\n",
    "    \"\"\"\n",
    "    Trains an n-gram language model with optional add-k smoothing\n",
    "    and additionaly returns the unigram model\n",
    "    \n",
    "    :param data: text-data as returned by read\n",
    "    :param N: (N>1) the order of the ngram e.g. N=2 gives a bigram\n",
    "    :param k: optional add-k smoothing\n",
    "    :returns: ngram and unigram\n",
    "    \"\"\"\n",
    "\n",
    "    ngram = defaultdict(Counter) # ngram[history][word] = #(history,word)\n",
    "    ngram2 = defaultdict(Counter) # ngram[history][word] = #(history,word)\n",
    "    for sentence in data:\n",
    "        for i,word in enumerate(sentence):\n",
    "            if i < N-1:\n",
    "                continue\n",
    "            history = ' '.join(sentence[i-(N-1):i])\n",
    "            ngram[history][word] += 1\n",
    "\n",
    "    for history in ngram.keys():\n",
    "        total_sum = sum(ngram[history].values())\n",
    "        for word,count in ngram[history].items():\n",
    "            if k>0:\n",
    "                ngram2[history][word] = (count+k)/(N+(k*total_sum))\n",
    "            else:\n",
    "                ngram2[history][word] = count/total_sum\n",
    "\n",
    "    unigram = defaultdict(float, c.Counter([word for sentence in data for word in sentence])) # default prob is 0.0    \n",
    "    \n",
    "    ngram = defaultdict(lambda: k/(N+(k*len(unigram.keys()))), ngram2)\n",
    "\n",
    "    return ngram,unigram\n",
    "\n",
    "data, w2i, i2w = read(train_file)\n",
    "bigram, unigram = train_ngram(data, N=2, k=0)\n",
    "bigram_smoothed, unigram_smoothed = train_ngram(data, N=2, k=1)\n",
    "# for k,v in bigram_smoothed.items():\n",
    "#     print(k,'\\t',v)"
   ]
  },
  {
   "cell_type": "markdown",
   "metadata": {},
   "source": [
    "## Exercise 2.2 (5 points)\n",
    "\n",
    "You can use an *N*-gram language model to **generate text**. The higher the order *N* the better your model will be able to catch the long-range dependecies that occur in actual sentences and the better your changes are at generating sensible text. But beware: **sparsity** of language data will quickly cause your model to reproduce entire lines from your training data; in such cases only one $w_k$ was observed for the histories $w_{k-N+1}\\dots w_{k-1}$ in the entire training-set.\n",
    "\n",
    "**Complete** the function `generate_sent`. It takes a language model `lm` and an order `N` and should generate a sentence by **sampling** from the language model.\n",
    "\n",
    "**[Hint]** You can use the method of [inverse transform sampling](https://en.wikipedia.org/wiki/Inverse_transform_sampling) to generate a sample from a **categorical distribution**, $p_1\\dots p_k$ such that $p_i \\geq 0$ and $\\sum_{i=1}^k p_i = 1$, as follows:"
   ]
  },
  {
   "cell_type": "code",
   "execution_count": 63,
   "metadata": {},
   "outputs": [
    {
     "name": "stdout",
     "output_type": "stream",
     "text": [
      "3\n",
      "Counter({2: 479, 3: 316, 1: 205})\n"
     ]
    }
   ],
   "source": [
    "from random import random\n",
    "\n",
    "P = [0.2,0.5,0.2,0.1]\n",
    "\n",
    "def sample(P):\n",
    "    u = random() # uniformly random number between 0 and 1\n",
    "    p = 0\n",
    "    for i, p_i in enumerate(P):\n",
    "        if p > u: \n",
    "            return i # the first i s.t. p1 + ... + pi > u\n",
    "        p += p_i\n",
    "    return i\n",
    "        \n",
    "print(sample(P))\n",
    "\n",
    "print(Counter([sample(P) for i in range(1000)])) # check to see if the law of large numbers is still true"
   ]
  },
  {
   "cell_type": "markdown",
   "metadata": {},
   "source": [
    "Inverse transform sampling in the words of Jurafsky and Martin:\n",
    "\n",
    "> Imagine all the words of the English language covering the probability space\n",
    "between 0 and 1, each word covering an interval proportional to its frequency. We\n",
    "choose a random value between 0 and 1 and print the word whose interval includes\n",
    "this chosen value.\n",
    "\n",
    "(J&M, section 4.3)"
   ]
  },
  {
   "cell_type": "code",
   "execution_count": 64,
   "metadata": {
    "scrolled": true
   },
   "outputs": [
    {
     "name": "stdout",
     "output_type": "stream",
     "text": [
      "<s> A splash . </s>\n"
     ]
    }
   ],
   "source": [
    "def generate_sent(lm, N,sentence_length=500):\n",
    "    ## YOUR CODE HERE ##\n",
    "#     starting_word = '<s>'\n",
    "    p_starting_words = [sw for sw in list(lm.keys()) if \"<s>\" in sw]\n",
    "    starting_word = p_starting_words[int(random()*len(p_starting_words))]\n",
    "    sentence= []\n",
    "    sentence.extend(starting_word.split(' '))\n",
    "    for i in range(sentence_length):\n",
    "        if '</s>' in sentence:\n",
    "            break\n",
    "        history = ' '.join(sentence[-(N-1):])\n",
    "        next_word = list(lm[history])[sample(lm[history].values())]\n",
    "        sentence.append(next_word)\n",
    "        \n",
    "    return ' '.join(sentence)\n",
    "for i in range(1):\n",
    "    print(generate_sent(bigram_smoothed,2))"
   ]
  },
  {
   "cell_type": "markdown",
   "metadata": {},
   "source": [
    "### [Extra]\n",
    "\n",
    "For how many of the histories $w_{k-N+1}\\dots w_{k-1}$ is the number of continuations $w_n$ equal to **one**? Calculate the percentage of such cases for the different orders *N*.\n",
    "\n",
    "And which history has the **most possible continuations**?"
   ]
  },
  {
   "cell_type": "code",
   "execution_count": 65,
   "metadata": {},
   "outputs": [
    {
     "name": "stdout",
     "output_type": "stream",
     "text": [
      "One continuations: 37166\n",
      "Most continuations: the 19019\n"
     ]
    }
   ],
   "source": [
    "one_continuations = 0\n",
    "most_contunations_hist = \"\"\n",
    "max_cont=-1\n",
    "for history in bigram_smoothed.keys():\n",
    "    continuations = len(bigram_smoothed[history])\n",
    "    if continuations == 1:\n",
    "        one_continuations +=1\n",
    "    if continuations > max_cont:\n",
    "        max_cont = continuations\n",
    "        most_contunations_hist = history\n",
    "print('One continuations:',one_continuations)\n",
    "print('Most continuations:',most_contunations_hist,max_cont)"
   ]
  },
  {
   "cell_type": "markdown",
   "metadata": {},
   "source": [
    "## Excercise 2.3 (5 points)\n",
    "\n",
    "Let $V$ denote our vocabulary. Recall that for any $w$ in $V$ `bigram[w]` defines a conditional probability $p(v|w)$ over $v$ in $V$. In the case of an **unsmoothed bigram**, $p(v|w) = 0$ for most $v\\in V$, whereas in the **smoothed bigram** smoothing took care that $p(v|w) \\geq 0$ for *all* $v$.\n",
    "\n",
    "The function `plot_bigram_dist(word, bigram, smoothbigram, k=30)` plots shows $p(v|word)$ for the `k` words $v$. One bar shows the probabilities in `bigram` and one in `smoothbigram`. \n",
    "\n",
    "**(a)** Use this function to plot the distribution for at least two words `w` and answer the questions\n",
    "* What is the effect of smoothing on the bigram distribution of frequent words? \n",
    "* What is the effect in the case of infrequent words?\n",
    "* Explain the difference between the two based on the raw counts of `w` \n",
    "\n",
    "**(b)** Now experiment with $k$ much smaller than 1 (but greater than 0!) \n",
    "* What are the effects?\n",
    "\n",
    "\n",
    "**[Hint]** Remember that add-1 smoothing turns \n",
    "$$P(w_n\\mid w_{n-1}) = \\frac{C(w_{n-1}w_{n})}{C(w_{n-1})}$$\n",
    "into\n",
    "$$P_{add-1}(w_n\\mid w_{n-1}) = \\frac{C(w_{n-1}w_{n}) + 1}{C(w_{n-1}) + |V|}.$$\n",
    "\n",
    "What happens when $C(w_{n-1})$ is relatively big (similiar in of size as $ |V| $)? And what if $C(w_{n-1})$ is small? "
   ]
  },
  {
   "cell_type": "code",
   "execution_count": 66,
   "metadata": {},
   "outputs": [],
   "source": [
    "import pandas as pd\n",
    "import seaborn as sns    \n",
    "\n",
    "def plot_bigram_dist(word, bigram, smoothbigram, k=30):\n",
    "    d = bigram[word]\n",
    "    ds = smoothbigram[word]\n",
    "    \n",
    "    # sort the probabilities\n",
    "    d_sort = sorted(d.items(), reverse=True, key=lambda t: t[1])[0:k]\n",
    "    ds_sort = sorted(ds.items(), reverse=True, key=lambda t: t[1])[0:k]\n",
    "    \n",
    "    _, probs = zip(*d_sort)\n",
    "    smooth_ws, smooth_probs = zip(*ds_sort)\n",
    "    \n",
    "    # make up for the fact that in the unsmoothed case  probs is generally less than k long\n",
    "    probs = probs + (0,) * (k-len(probs)) \n",
    "\n",
    "    w_data = pd.DataFrame({\"w\": smooth_ws * 2,\n",
    "                           \"P({}|w)\".format(word): probs + smooth_probs,\n",
    "                           \"smoothing\": [\"unsmoothed\"]*k + [\"smoothed\"]*k})\n",
    "    \n",
    "    fig, ax = plt.subplots(figsize=(10,10\n",
    "                                   ))\n",
    "    plt.xticks(rotation=90)\n",
    "    g = sns.barplot(ax=ax, x=\"w\", y=\"P({}|w)\".format(word), hue=\"smoothing\",\n",
    "                    data=w_data, palette=\"Blues_d\")    "
   ]
  },
  {
   "cell_type": "code",
   "execution_count": 67,
   "metadata": {},
   "outputs": [
    {
     "name": "stdout",
     "output_type": "stream",
     "text": [
      "\n",
      "A)\n",
      "What is the effect of smoothing on the bigram distribution of frequent words?\n",
      "There is not much difference on frequent words\n",
      "\n",
      "What is the effect in the case of infrequent words?\n",
      "The probabiltiy of infrequent words is higher\n",
      "\n",
      "Explain the difference between the two based on the raw counts of w?\n",
      "The smoothing makes the difference of probability between frequent and infrequent words smaller by adding smooting\n",
      "\n",
      "B)\n",
      "Now experiment with  𝑘  much smaller than 1 (but greater than 0!)\n",
      "The aforementioned smoothing effect of infrequent words is less noticable since the smoothing is reduced\n",
      "\n"
     ]
    },
    {
     "data": {
      "image/png": "[encoded data removed]",
      "text/plain": [
       "<Figure size 720x720 with 1 Axes>"
      ]
     },
     "metadata": {
      "needs_background": "light"
     },
     "output_type": "display_data"
    },
    {
     "data": {
      "image/png": "[encoded data removed]",
      "text/plain": [
       "<Figure size 720x720 with 1 Axes>"
      ]
     },
     "metadata": {
      "needs_background": "light"
     },
     "output_type": "display_data"
    }
   ],
   "source": [
    "bigram, unigram = train_ngram(data, N=2, k=0)\n",
    "bigram_smoothed, unigram_smoothed = train_ngram(data, N=2, k=1)\n",
    "plot_bigram_dist('Is',bigram,bigram_smoothed,k=30)\n",
    "plot_bigram_dist('That',bigram,bigram_smoothed,k=30)\n",
    "print(\"\"\"\n",
    "A)\n",
    "What is the effect of smoothing on the bigram distribution of frequent words?\n",
    "There is not much difference on frequent words\n",
    "\n",
    "What is the effect in the case of infrequent words?\n",
    "The probabiltiy of infrequent words is higher\n",
    "\n",
    "Explain the difference between the two based on the raw counts of w?\n",
    "The smoothing makes the difference of probability between frequent and infrequent words smaller by adding smooting\n",
    "\n",
    "B)\n",
    "Now experiment with  𝑘  much smaller than 1 (but greater than 0!)\n",
    "The aforementioned smoothing effect of infrequent words is less noticable since the smoothing is reduced\n",
    "\"\"\")\n"
   ]
  },
  {
   "cell_type": "markdown",
   "metadata": {},
   "source": [
    "YOUR ANSWERS HERE"
   ]
  },
  {
   "cell_type": "markdown",
   "metadata": {},
   "source": [
    "\n",
    "**Recall** that if we have a sentence $w_1,\\dots,w_n$ we can write\n",
    "\n",
    "$$P(w_1\\dots w_n) = P(w_1)P(w_2|w_1) \\cdots P(w_i|w_1 \\dots w_{n-1}) \\approx P(w_1)P(w_2|w_1)\\cdots P(w_{N-1}|w_1\\dots w_{N-2})\\prod_{i=N}^{n} P(w_i|w_{i-(N-1)}\\dots w_{i-1})$$\n",
    "\n",
    "where in the last step we make an $N$-gram approximation of the full conditionals.\n",
    "\n",
    "For example, in the case of a bigram (N=2), the above expression reduces to\n",
    "\n",
    "$$P(w_1 \\dots w_n)\\approx P(w_1)\\prod_{i=2}^{n} P(w_i| w_{i-1}).$$\n",
    "\n",
    "## Exercise 2.4 (5 points)\n",
    "\n",
    "The following sentences are taken from the **training data**. Use your **unsmoothed unigram**, **bigram**, and **trigram** language model to estimate their **probabilities**:\n",
    "\n",
    "    1. Every day was about creating something new .\n",
    "    2. In this machine , a beam of protons and anti-protons are accelerated to near the speed of light and brought \n",
    "       together in a collision , producing a burst of pure energy .\n",
    "\n",
    "**Repeat** this with the **smoothed (add-1)** versions of the N-grams. What is the effect of smoothing on the probabilities?\n"
   ]
  },
  {
   "cell_type": "code",
   "execution_count": 68,
   "metadata": {},
   "outputs": [],
   "source": [
    "def get_probabilities(lm,N,sentences):\n",
    "    probabilities=[]\n",
    "    for s_i,sentence in enumerate(sentences):\n",
    "        sentence = sentence.split(' ')\n",
    "        probabilities.append([])\n",
    "        for i,word in enumerate(sentence[N-1:]):\n",
    "            history = ' '.join(sentence[i:i+(N-1)])\n",
    "            if type(lm[history]) != type(0.0):\n",
    "                probabilities[s_i].append(lm[history][word])\n",
    "            else:\n",
    "                probabilities[s_i].append(lm[history])\n",
    "    return probabilities"
   ]
  },
  {
   "cell_type": "code",
   "execution_count": 69,
   "metadata": {},
   "outputs": [
    {
     "name": "stdout",
     "output_type": "stream",
     "text": [
      "Unsmoothed\n",
      "Sentence 1: 8.711492631550748e-27 Sentence 2: 2.7545011290780525e-102\n",
      "Sentence 1: 4.667998867880972e-17 Sentence 2: 2.0159953795734388e-72\n",
      "Sentence 1: 8.06431419407934e-09 Sentence 2: 2.1652443601105852e-29\n",
      "Smoothed\n",
      "Sentence 1: 8.75411270491716e-27 Sentence 2: 6.560487877831316e-102\n",
      "Sentence 1: 5.778327443181051e-17 Sentence 2: 6.1660425671306895e-71\n",
      "Sentence 1: 5.159093202632669e-08 Sentence 2: 2.579326915799917e-28\n"
     ]
    }
   ],
   "source": [
    "\n",
    "\n",
    "sentences = [\"<s> Every day was about creating something new . </s>\",\"<s> In this machine , a beam of protons and anti-protons are accelerated to near the speed of light and brought together in a collision , producing a burst of pure energy . </s>\"]\n",
    "print('Unsmoothed')\n",
    "ungram, unigram = train_ngram(data, N=1, k=0)\n",
    "print('Sentence 1:',np.prod(get_probabilities(ungram,1,sentences)[0]),\n",
    "      'Sentence 2:',np.prod(get_probabilities(ungram,1,sentences)[1]))\n",
    "bigram, unigram = train_ngram(data, N=2, k=0)\n",
    "print('Sentence 1:',np.prod(get_probabilities(bigram,2,sentences)[0]),\n",
    "      'Sentence 2:',np.prod(get_probabilities(bigram,2,sentences)[1]))\n",
    "trigram, unigram = train_ngram(data, N=3, k=0)\n",
    "print('Sentence 1:',np.prod(get_probabilities(trigram,3,sentences)[0]),\n",
    "      'Sentence 2:',np.prod(get_probabilities(trigram,3,sentences)[1]))\n",
    "\n",
    "print('Smoothed')\n",
    "ungram, unigram = train_ngram(data, N=1, k=1)\n",
    "print('Sentence 1:',np.prod(get_probabilities(ungram,1,sentences)[0]),\n",
    "      'Sentence 2:',np.prod(get_probabilities(ungram,1,sentences)[1]))\n",
    "bigram, unigram = train_ngram(data, N=2, k=1)\n",
    "print('Sentence 1:',np.prod(get_probabilities(bigram,2,sentences)[0]),\n",
    "      'Sentence 2:',np.prod(get_probabilities(bigram,2,sentences)[1]))\n",
    "trigram, unigram = train_ngram(data, N=3, k=1)\n",
    "print('Sentence 1:',np.prod(get_probabilities(trigram,3,sentences)[0]),\n",
    "      'Sentence 2:',np.prod(get_probabilities(trigram,3,sentences)[1]))\n",
    "\n",
    "# probabilities\n"
   ]
  },
  {
   "cell_type": "markdown",
   "metadata": {},
   "source": [
    "YOUR ANSWERS HERE"
   ]
  },
  {
   "cell_type": "markdown",
   "metadata": {},
   "source": [
    "## Exercise 2.5 (5 points)\n",
    "\n",
    "The above sentences were taken from the training set, hence they will all have probability greater than 0. The big challenge for our language model are of course with sentence that contain unseen N-grams: if such an N-gram occurs our model immediately assigns the sentence probability zero.\n",
    "\n",
    "The following three senteces are taken from the **test set** availlable in the file **ted-test.txt**. What probabilities do your smoothed and unsmoothed language models asign in this case?\n",
    "\n",
    "    1. Because these robots are really safe .\n",
    "    2. We have sheer nothingness on one side , and we have this vision of a reality that encompasses every \n",
    "       conceivable world at the other extreme : the fullest possible reality , nothingness , the simplest possible \n",
    "       reality ."
   ]
  },
  {
   "cell_type": "code",
   "execution_count": 38,
   "metadata": {},
   "outputs": [
    {
     "name": "stdout",
     "output_type": "stream",
     "text": [
      "Unsmoothed\n",
      "Unigram model probabilities\n",
      "Sentence 1: 3.5731707008639346e-24 Sentence 2: 3.699664748429897e-120\n",
      "Bigram model probabilities\n",
      "Sentence 1: 2.6913665324688018e-15 Sentence 2:0.0\n",
      "Trigram model probabilities\n",
      "Sentence 1: 0.0 Sentence 2:0.0\n",
      "Smoothed\n",
      "Unigram model probabilities\n",
      "Sentence 1: 3.593809762338263e-24 Sentence 2:6.258216599456381e-120\n",
      "Bigram model probabilities\n",
      "Sentence 1: 4.616314341211495e-15 Sentence 2:0.0\n",
      "Trigram model probabilities\n",
      "Sentence 1: 0.0 Sentence 2:0.0\n"
     ]
    }
   ],
   "source": [
    "sentences = [\"<s> Because these robots are really safe . </s>\",\"<s> We have sheer nothingness on one side , and we have this vision of a reality that encompasses every conceivable world at the other extreme : the fullest possible reality , nothingness , the simplest possible reality . </s>\"]\n",
    "print('Unsmoothed')\n",
    "data = read(train_file)[0]\n",
    "ungram, unigram = train_ngram(data, N=1, k=0)\n",
    "print('Unigram model probabilities')\n",
    "print('Sentence 1: '+ str(np.prod(get_probabilities(ungram,1,sentences)[0]))+\n",
    "      ' Sentence 2: '+ str(np.prod(get_probabilities(ungram,1,sentences)[1])))\n",
    "bigram, unigram = train_ngram(data, N=2, k=0)\n",
    "print('Bigram model probabilities')\n",
    "print('Sentence 1: '+str(np.prod(get_probabilities(bigram,2,sentences)[0]))+\n",
    "      ' Sentence 2:'+str(np.prod(get_probabilities(bigram,2,sentences)[1])))\n",
    "trigram, unigram = train_ngram(data, N=3, k=0)\n",
    "print('Trigram model probabilities')\n",
    "print('Sentence 1: '+str(np.prod(get_probabilities(trigram,3,sentences)[0]))+\n",
    "      ' Sentence 2:'+str(np.prod(get_probabilities(trigram,3,sentences)[1])))\n",
    "print('Smoothed')\n",
    "ungram, unigram = train_ngram(data, N=1, k=1)\n",
    "print('Unigram model probabilities')\n",
    "print('Sentence 1: '+str(np.prod(get_probabilities(ungram,1,sentences)[0]))+\n",
    "      ' Sentence 2:'+str(np.prod(get_probabilities(ungram,1,sentences)[1])))\n",
    "bigram, unigram = train_ngram(data, N=2, k=1)\n",
    "print('Bigram model probabilities')\n",
    "print('Sentence 1: '+str(np.prod(get_probabilities(bigram,2,sentences)[0]))+\n",
    "      ' Sentence 2:'+str(np.prod(get_probabilities(bigram,2,sentences)[1])))\n",
    "trigram, unigram = train_ngram(data, N=3, k=1)\n",
    "print('Trigram model probabilities')\n",
    "print('Sentence 1: '+str(np.prod(get_probabilities(trigram,3,sentences)[0]))+\n",
    "      ' Sentence 2:'+str(np.prod(get_probabilities(trigram,3,sentences)[1])))"
   ]
  },
  {
   "cell_type": "markdown",
   "metadata": {},
   "source": [
    "YOUR ANSWERS HERE"
   ]
  },
  {
   "cell_type": "markdown",
   "metadata": {},
   "source": [
    "### [Extra]\n",
    "\n",
    "**Optional** What percentage of the sentences in the test set get assigned probability 0 under your smoothed and unsmoothed language models? "
   ]
  },
  {
   "cell_type": "code",
   "execution_count": 69,
   "metadata": {},
   "outputs": [
    {
     "name": "stdout",
     "output_type": "stream",
     "text": [
      "Ungram: 11.188811188811188\n",
      "Bigram: 71.32867132867133\n",
      "Trigram: 89.16083916083916\n",
      "Ungram smoothed: 11.188811188811188\n",
      "Bigram smoothed: 71.32867132867133\n",
      "Trigram smoothed: 89.16083916083916\n"
     ]
    }
   ],
   "source": [
    "    test_file = \"ted-test.txt\"\n",
    "    data = read(train_file)[0]\n",
    "    data_test = read(test_file)[0]\n",
    "    data2 = []\n",
    "    for s in data_test:\n",
    "        data2.append(\" \".join(s))\n",
    "    \n",
    "    \n",
    "    ungram, unigram = train_ngram(data, N=1, k=0)\n",
    "    ungram_probabilities= get_probabilities(ungram,1,data2)\n",
    "    ungram_probabilities\n",
    "    bigram, unigram = train_ngram(data, N=2, k=0)\n",
    "    bigram_probabilities = get_probabilities(bigram,2,data2)\n",
    "    trigram, unigram = train_ngram(data, N=3, k=0)\n",
    "    trigram_probabilities = get_probabilities(trigram,3,data2)\n",
    "    ungram, unigram = train_ngram(data, N=1, k=1)\n",
    "    ungram_smoothed_probabilities = get_probabilities(ungram,1,data2)\n",
    "    bigram, unigram = train_ngram(data, N=2, k=1)\n",
    "    bigram_smoothed_probabilities = get_probabilities(bigram,2,data2)\n",
    "    trigram, unigram = train_ngram(data, N=3, k=1)\n",
    "    trigram_smoothed_probabilities = get_probabilities(trigram,3,data2)\n",
    "    ungram_counter = 0\n",
    "    bigram_counter = 0\n",
    "    trigram_counter = 0\n",
    "    ungram_smoothed_counter = 0\n",
    "    bigram_smoothed_counter = 0\n",
    "    trigram_smoothed_counter = 0\n",
    "    for i in range(len(data2)):\n",
    "        if np.prod(ungram_probabilities[i]) == 0.0:\n",
    "            ungram_counter += 1\n",
    "        if np.prod(bigram_probabilities[i]) == 0.0:\n",
    "            bigram_counter += 1\n",
    "        if np.prod(trigram_probabilities[i]) == 0.0:\n",
    "            trigram_counter += 1\n",
    "        if np.prod(ungram_smoothed_probabilities[i]) == 0.0:\n",
    "            ungram_smoothed_counter += 1\n",
    "        if np.prod(bigram_smoothed_probabilities[i]) == 0.0:\n",
    "            bigram_smoothed_counter += 1\n",
    "        if np.prod(trigram_smoothed_probabilities[i]) == 0.0:\n",
    "            trigram_smoothed_counter += 1\n",
    "    \n",
    "    \n",
    "    print('Ungram:',ungram_counter * 100 / len(ungram_probabilities))\n",
    "    print('Bigram:',bigram_counter * 100 / len(ungram_probabilities))\n",
    "    print('Trigram:',trigram_counter * 100 / len(ungram_probabilities))\n",
    "    print('Ungram smoothed:',ungram_smoothed_counter * 100 / len(ungram_probabilities))\n",
    "    print('Bigram smoothed:',bigram_smoothed_counter * 100 / len(ungram_probabilities))\n",
    "    print('Trigram smoothed:',trigram_smoothed_counter * 100 / len(ungram_probabilities))\n",
    "        \n"
   ]
  },
  {
   "cell_type": "markdown",
   "metadata": {},
   "source": [
    "## Exercise 2.6 (5 points)\n",
    "\n",
    "**Perplexity** is a frequently used **metric** for evaluating probabilistic models such as language models. The perplexity (sometimes called **PP** for short) of a language model on a sentence is the **inverse probability** of the sentence, **normalized** by the number of words:\n",
    "\n",
    "$$PP(w_1 \\dots w_n) = P(w_1\\dots w_n)^{-\\frac{1}{n}}.$$\n",
    "\n",
    "Here we can again approximate $P(w_1 \\dots w_n)$ with N-gram probabilities, as above.\n",
    "Note: $(x_1\\cdots x_n)^{-\\frac{1}{n}}$ is the **geometric mean** of the numbers $x_1,\\dots,x_n$. It is like the (regular) artithmetic mean, but with **products** instead of **sums**. The geometric mean is a more natural choice in the case of *PP* because behind $P(w_1\\dots w_n)$ is a series of $n$ products ([more here](https://en.wikipedia.org/wiki/Geometric_mean)).\n",
    "\n",
    "\n",
    "\n",
    "Compute the perplexity of the training sentences from excercise 2.1. What big difference between the **probabilities** of the sentences and the **perplexities** of the sentences do you notice?"
   ]
  },
  {
   "cell_type": "code",
   "execution_count": null,
   "metadata": {},
   "outputs": [
    {
     "name": "stdout",
     "output_type": "stream",
     "text": [
      "Unsmoothed\n",
      "Unigram PP = 3.951591540741765\n",
      "Bigram PP = 2.734665581932019\n",
      "Trigram PP =1.8624330049397992\n",
      "Smoothed\n",
      "Unigram PP = 3.9511680337610438\n",
      "Bigram PP = 2.677492637719859\n",
      "Trigram PP = 1.8135160992184896\n",
      "Unsmoothed\n",
      "Unigram PP = 3.3870831521693914\n",
      "Bigram PP = 2.3966766949258234\n",
      "Trigram PP =1.4305582886205994\n",
      "Smoothed\n",
      "Unigram PP = 3.385458067496445\n",
      "Bigram PP = 2.3250329721540823\n",
      "Trigram PP = 1.4160252182362407\n",
      "Unsmoothed\n",
      "Unigram PP = 4.009502467973879\n",
      "Bigram PP = 2.284320259827072\n",
      "Trigram PP =1.6686645568400933\n",
      "Smoothed\n",
      "Unigram PP = 4.008364610227285\n",
      "Bigram PP = 2.275695469254465\n",
      "Trigram PP = 1.6368453607195041\n",
      "Unsmoothed\n",
      "Unigram PP = 3.981965285715897\n",
      "Bigram PP = 1.7888109299858934\n",
      "Trigram PP =1.15662172074376\n",
      "Smoothed\n",
      "Unigram PP = 3.957025463257782\n",
      "Bigram PP = 1.7108223279909054\n",
      "Trigram PP = 1.192758593170289\n",
      "Unsmoothed\n",
      "Unigram PP = 3.246994929885044\n",
      "Bigram PP = 2.0537359885934485\n",
      "Trigram PP =1.4810380237009013\n",
      "Smoothed\n",
      "Unigram PP = 3.2468399159162904\n",
      "Bigram PP = 2.029182798828828\n",
      "Trigram PP = 1.4697009762704702\n",
      "Unsmoothed\n",
      "Unigram PP = 3.531695142169903\n",
      "Bigram PP = 2.1286687203042605\n",
      "Trigram PP =1.3466892545257725\n",
      "Smoothed\n",
      "Unigram PP = 3.519541121760073\n",
      "Bigram PP = 2.053799523776392\n",
      "Trigram PP = 1.3665717375986781\n",
      "Unsmoothed\n",
      "Unigram PP = 3.4160413788185386\n",
      "Bigram PP = 1.9934288655387264\n",
      "Trigram PP =1.615856079271317\n",
      "Smoothed\n",
      "Unigram PP = 3.4131088947206534\n",
      "Bigram PP = 1.9382750068573318\n",
      "Trigram PP = 1.605620263335204\n",
      "Unsmoothed\n",
      "Unigram PP = 3.043932178658449\n",
      "Bigram PP = 1.9354465208257055\n",
      "Trigram PP =1.2798570397865996\n",
      "Smoothed\n",
      "Unigram PP = 3.0433571224642773\n",
      "Bigram PP = 1.8855403030680153\n",
      "Trigram PP = 1.26241272411514\n",
      "Unsmoothed\n",
      "Unigram PP = 3.574032607093359\n",
      "Bigram PP = 2.159433030588622\n",
      "Trigram PP =1.4154091090925616\n",
      "Smoothed\n",
      "Unigram PP = 3.5678646289556872\n",
      "Bigram PP = 2.0823680257210038\n",
      "Trigram PP = 1.4256280454398758\n",
      "Unsmoothed\n",
      "Unigram PP = 3.933829460097036\n",
      "Bigram PP = 2.0569335416978927\n",
      "Trigram PP =1.6173451549434252\n",
      "Smoothed\n",
      "Unigram PP = 3.9312817914573435\n",
      "Bigram PP = 2.012480241902366\n",
      "Trigram PP = 1.608881806875327\n",
      "Unsmoothed\n",
      "Unigram PP = 3.2101852871990553\n",
      "Bigram PP = 2.1333820092368083\n",
      "Trigram PP =1.539426242420072\n",
      "Smoothed\n",
      "Unigram PP = 3.2100053089417853\n",
      "Bigram PP = 2.125638706035935\n",
      "Trigram PP = 1.5316981981757758\n",
      "Unsmoothed\n",
      "Unigram PP = 4.370089885274612\n",
      "Bigram PP = 2.1751604128781694\n",
      "Trigram PP =1.0273996590637164\n",
      "Smoothed\n",
      "Unigram PP = 4.348549507233874\n",
      "Bigram PP = 2.1473010745171894\n",
      "Trigram PP = 1.0601014196798157\n",
      "Unsmoothed\n",
      "Unigram PP = 3.6828798529690885\n",
      "Bigram PP = 2.298637157717309\n",
      "Trigram PP =1.5225565742835154\n",
      "Smoothed\n",
      "Unigram PP = 3.6674815960774407\n",
      "Bigram PP = 2.216844243884076\n",
      "Trigram PP = 1.5267644543983\n",
      "Unsmoothed\n",
      "Unigram PP = 3.843257941880096\n",
      "Bigram PP = 2.1529409322654054\n",
      "Trigram PP =1.188691173770453\n",
      "Smoothed\n",
      "Unigram PP = 3.8284818692504716\n",
      "Bigram PP = 2.066223022168632\n",
      "Trigram PP = 1.220683531658866\n",
      "Unsmoothed\n",
      "Unigram PP = 3.824937082241454\n",
      "Bigram PP = 2.4280181794322284\n",
      "Trigram PP =1.5996528247103239\n",
      "Smoothed\n",
      "Unigram PP = 3.8238386756005167\n",
      "Bigram PP = 2.3577201197944766\n"
     ]
    }
   ],
   "source": [
    "data = read(train_file)[0]\n",
    "sents = []\n",
    "for s in data:\n",
    "        sents.append(\" \".join(s))\n",
    "        \n",
    "ungram, unigram = train_ngram(data, N=1, k=0)\n",
    "bigram, unigram = train_ngram(data, N=2, k=0)\n",
    "trigram, unigram = train_ngram(data, N=3, k=0)\n",
    "ungram_smoothed, unigram = train_ngram(data, N=1, k=1)\n",
    "bigram_smoothed, unigram = train_ngram(data, N=2, k=1)\n",
    "trigram_smoothed, unigram = train_ngram(data, N=3, k=1)\n",
    "\n",
    "for i,j in enumerate(sents):\n",
    "        print('Unsmoothed')\n",
    "        print('Unigram PP = '+str(np.prod(get_probabilities(ungram,1,sents)[i])**(-1/len(j))))\n",
    "        print('Bigram PP = '+str(np.prod(get_probabilities(bigram,2,sents)[i])**(-1/len(j))))\n",
    "        print('Trigram PP ='+str(np.prod(get_probabilities(trigram,3,sents)[i])**(-1/len(j))))\n",
    "        print('Smoothed')\n",
    "        print('Unigram PP = '+str(np.prod(get_probabilities(ungram_smoothed,1,sents)[i])**(-1/len(j))))\n",
    "        print('Bigram PP = '+str(np.prod(get_probabilities(bigram_smoothed,2,sents)[i])**(-1/len(j))))\n",
    "        print('Trigram PP = '+str(np.prod(get_probabilities(trigram_smoothed,3,sents)[i])**(-1/len(j))))"
   ]
  },
  {
   "cell_type": "markdown",
   "metadata": {},
   "source": [
    "We noticed that the perplexity of longer sentences does not differ as much from shorter sentences. Longer sentences often have lower probabilites since the probability will get multiplied more often with lower numbers and this does not happen in the same way with perplexity"
   ]
  },
  {
   "cell_type": "markdown",
   "metadata": {},
   "source": [
    "# That's it!\n",
    "\n",
    "Congratulations, you have made it to the end of the tutorial. Here we will recap the gist of this notebook. \n",
    "\n",
    "**Make sure all your cells can be executed and all your answers are there. Then, read on if you're interested!**\n",
    "\n",
    "-----\n",
    "\n",
    "By now you should have a solid feeling for the problem of **sparsity in language data**; there's just never enough data. For the task of language modelling, we saw that sparsity is a serious challenge. \n",
    "\n",
    "It would be great to be able to model $p(w_n|w_1 \\dots w_{n-1})$ for unlimited $n$: the larger $n$ the better our language model should become at capturing the long-range dependencies between words that characterize actual human sentences, and the more probability our model will asign to such sentences as opposed to sentences that are word-soup. But in the N-gram approach, increasing $n$ will quickly kill all generalizing abilities of the model: the model will start to asign probabilities only to sentences it has seen in the training data.\n",
    "\n",
    "So, where to go from here? Here are three directions that we could head in.\n",
    "\n",
    "### Smoothing\n",
    "\n",
    "We have seen one example of smoothing in this lab: add-k smoothing. This is an easy method, both conceptually and implementation-wise. But the results are not great, and the effects it has on the distributions can be extreme.\n",
    "\n",
    "A much more sophisticated method of smoothing is so-called **Kneser-Ney smoothing**. The method is described in detail in section 4.5 of J&M (3rd edition). This is one of the best performing N-gram smoothing methods, and up to a few years ago a popular implementation of it called [KenLM](https://kheafield.com/code/kenlm/) gave state of the art results.\n",
    "\n",
    "### From words to characters\n",
    "\n",
    "In this lab we have considered language modeling as the task of predicting a **word** $w_n$ based on a history of **words** $w_1\\cdots w_n$. What if instead we let our basic units of modelling be **characters**? The task then becomes to model $p(c_k\\mid c_{k-N-1}\\dots c_{k-1})$ where each $c_i$ is now an ASCII character instead of an entire word.\n",
    "\n",
    "Suddenly sparsity of data is no longer a problem! The set of characters to use is tiny (< 100) compared to even a small-sized vocabulary as today. Have a look at this very illustrative notebook written by Yoav Golberg to see such a method in action: [The unreasonable effectiveness of Character-level Language Models](http://nbviewer.jupyter.org/gist/yoavg/d76121dfde2618422139).\n",
    "\n",
    "(So what is the downside?)\n",
    "\n",
    "\n",
    "### Neural language models\n",
    "\n",
    "The above notebook was actually written as a response to this blog post by Andrej Karpathy: [The Unreasonable Effectiveness of Recurrent Neural Networks](http://karpathy.github.io/2015/05/21/rnn-effectiveness/). Go ahead and read it if you haven't already: it is a superb introduction to the topic of Recurrent Neural Networks.\n",
    "\n",
    "Neural language models solve the problem of data sparsity in a different manner. Instead of estimating the probabilities $p(w_k\\mid w_{k-N-1}\\dots w_{k-1})$ by counting occurences in the data, they use a neural network $f_{\\theta}$ parametrized by parameters $\\theta$ to predict this probability. The parameters $\\theta$ are learned through optimization. \n",
    "\n",
    "The simplest approach goes like this: each word in the history $w_{k-N-1}\\dots w_{k-1}$ is embedded separately giving  vectors $e_{k-N-1}\\dots e_{k-1}$ and then concatenated into one long vectors $[e_{k-N-1};\\dots ;e_{k-1}]$. The network then uses this history vector to predict a probability distribution over words $w$ in the vocabulary $V$:\n",
    "\n",
    "$$p(w \\mid w_{k-N-1}\\dots w_{k-1}) = f_{\\theta}([e_{k-N-1};\\dots;e_{k-1}]).$$\n",
    "\n",
    "(In order to produce legitimate probabilities the final layer of such a network will be for example a $softmax$.)\n",
    "\n",
    "This provides a solution to the sparsity problem by having the network let the individual embeddings of the words in the history interact through its non-linear transforamtion. We are letting the network figure out the smoothing itself!\n",
    "\n",
    "RNNs are a clever extension of this idea, where a hidden state vector $h$ is re-used and updated at each step $k$ in order to store the information of the entire history up to step $k-1$. That is, an RNN actually does away with the N-order approximation; it tries to model the full conditional directly! That means that\n",
    "\n",
    "$$p(w \\mid w_1\\dots w_{k-1}) \\approx RNN_{\\theta}([e_{k-1};h_{k-1}])$$\n",
    "\n",
    "where the hidden state $h_{k-1}$ is a compression of the *entire history* $w_1\\dots w_{k-1}$.\n",
    "\n",
    "Another great place to learn about RNNs, their problems, and solutions to those, is on the blog of [Christopher Olah](http://colah.github.io/posts/2015-08-Understanding-LSTMs/). \n",
    "\n",
    "-----------\n",
    "(And now, it's time to read the classic essay by Eugene Wigner that gave both of the posts their title: \n",
    "https://www.maths.ed.ac.uk/~v1ranick/papers/wigner.pdf\n",
    "\n",
    "\n",
    "\n",
    "Acknowledgements: Most of this lab was developed in collaboration with Joost Bastings and Dan Douwe."
   ]
  },
  {
   "cell_type": "code",
   "execution_count": null,
   "metadata": {},
   "outputs": [],
   "source": []
  }
 ],
 "metadata": {
  "anaconda-cloud": {},
  "kernelspec": {
   "display_name": "Python 3",
   "language": "python",
   "name": "python3"
  },
  "language_info": {
   "codemirror_mode": {
    "name": "ipython",
    "version": 3
   },
   "file_extension": ".py",
   "mimetype": "text/x-python",
   "name": "python",
   "nbconvert_exporter": "python",
   "pygments_lexer": "ipython3",
   "version": "3.8.5"
  }
 },
 "nbformat": 4,
 "nbformat_minor": 1
}
